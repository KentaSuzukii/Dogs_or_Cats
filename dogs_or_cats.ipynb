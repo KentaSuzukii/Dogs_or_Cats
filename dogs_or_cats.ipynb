{
 "cells": [
  {
   "cell_type": "markdown",
   "id": "9c4192e0",
   "metadata": {},
   "source": [
    "# Preprocessing"
   ]
  },
  {
   "cell_type": "code",
   "execution_count": 3,
   "id": "c13b8cce",
   "metadata": {},
   "outputs": [
    {
     "name": "stderr",
     "output_type": "stream",
     "text": [
      "/var/folders/tr/pkwjp9qn76v_83kx3jf06q6w0000gn/T/ipykernel_31512/3754220758.py:12: DeprecationWarning: `import kerastuner` is deprecated, please use `import keras_tuner`.\n",
      "  import kerastuner as kt\n"
     ]
    }
   ],
   "source": [
    "# import libraries\n",
    "import tensorflow as tf\n",
    "from tensorflow.keras.preprocessing.image import ImageDataGenerator\n",
    "from tensorflow.keras.models import Sequential\n",
    "from tensorflow.keras.layers import Conv2D, MaxPooling2D, Flatten, Dense, Dropout\n",
    "import matplotlib.pyplot as plt\n",
    "import numpy as np\n",
    "import os\n",
    "import shutil\n",
    "import random\n",
    "from tensorflow.keras.preprocessing import image\n",
    "import kerastuner as kt\n",
    "from tensorflow.keras.models import load_model\n"
   ]
  },
  {
   "cell_type": "code",
   "execution_count": 4,
   "id": "5f7cfab4",
   "metadata": {},
   "outputs": [],
   "source": [
    "### Divide dataset into training and validation sets ###\n",
    "\n",
    "# # Parameters\n",
    "# source_folder = 'dogs-vs-cats/original'\n",
    "# train_folder = 'dogs-vs-cats/train'\n",
    "# test_folder = 'dogs-vs-cats/test'\n",
    "# test_ratio = 0.2  # 20% for test, 80% for train\n",
    "\n",
    "# # List all jpg files (customize for othfer extensions if needed)\n",
    "# all_files = [f for f in os.listdir(source_folder) if f.lower().endswith('.jpg')]\n",
    "\n",
    "# # Shuffle and split\n",
    "# random.shuffle(all_files)\n",
    "# split_index = int(len(all_files) * (1 - test_ratio))\n",
    "# train_files = all_files[:split_index]\n",
    "# test_files = all_files[split_index:]\n",
    "\n",
    "# # Move files\n",
    "# for f in train_files:\n",
    "#     shutil.move(os.path.join(source_folder, f), os.path.join(train_folder, f))\n",
    "\n",
    "# for f in test_files:\n",
    "#     shutil.move(os.path.join(source_folder, f), os.path.join(test_folder, f))\n",
    "\n",
    "# print(f\"Moved {len(train_files)} files to train and {len(test_files)} to test.\")\n"
   ]
  },
  {
   "cell_type": "code",
   "execution_count": null,
   "id": "f15d0054",
   "metadata": {},
   "outputs": [],
   "source": [
    "# # Set your source and destination folders\n",
    "# source_folder = 'dogs-vs-cats/train'\n",
    "# destination_folder_dogs = 'dogs-vs-cats/train/dogs'\n",
    "# destination_folder_cats = 'dogs-vs-cats/train/cats'\n",
    "\n",
    "\n",
    "# # Loop through files in source folder\n",
    "# for filename in os.listdir(source_folder):\n",
    "#     # Check if filename starts with \"dog\" and ends with \".jpg\"\n",
    "#     if filename.lower().startswith('dog') and filename.lower().endswith('.jpg'):\n",
    "#         src_path = os.path.join(source_folder, filename)\n",
    "#         dst_path = os.path.join(destination_folder_dogs, filename)\n",
    "\n",
    "#         # Copy the file to destination folder\n",
    "#         shutil.copy2(src_path, dst_path)\n",
    "\n",
    "#         # Delete the original file\n",
    "#         os.remove(src_path)\n",
    "\n",
    "#     elif filename.lower().startswith('cat') and filename.lower().endswith('.jpg'):\n",
    "#         src_path = os.path.join(source_folder, filename)\n",
    "#         dst_path = os.path.join(destination_folder_cats, filename)\n",
    "\n",
    "#         # Copy the file to destination folder\n",
    "#         shutil.copy2(src_path, dst_path)\n",
    "\n",
    "#         # Delete the original file\n",
    "#         os.remove(src_path)\n",
    "\n",
    "# source_folder = 'dogs-vs-cats/test'\n",
    "# destination_folder_dogs = 'dogs-vs-cats/test/dogs'\n",
    "# destination_folder_cats = 'dogs-vs-cats/test/cats'\n",
    "\n",
    "\n",
    "# # Loop through files in source folder\n",
    "# for filename in os.listdir(source_folder):\n",
    "#     # Check if filename starts with \"dog\" and ends with \".jpg\"\n",
    "#     if filename.lower().startswith('dog') and filename.lower().endswith('.jpg'):\n",
    "#         src_path = os.path.join(source_folder, filename)\n",
    "#         dst_path = os.path.join(destination_folder_dogs, filename)\n",
    "\n",
    "#         # Copy the file to destination folder\n",
    "#         shutil.copy2(src_path, dst_path)\n",
    "\n",
    "#         # Delete the original file\n",
    "#         os.remove(src_path)\n",
    "\n",
    "#     elif filename.lower().startswith('cat') and filename.lower().endswith('.jpg'):\n",
    "#         src_path = os.path.join(source_folder, filename)\n",
    "#         dst_path = os.path.join(destination_folder_cats, filename)\n",
    "\n",
    "#         # Copy the file to destination folder\n",
    "#         shutil.copy2(src_path, dst_path)\n",
    "\n",
    "#         # Delete the original file\n",
    "#         os.remove(src_path)"
   ]
  },
  {
   "cell_type": "code",
   "execution_count": 6,
   "id": "93ca9cf9",
   "metadata": {},
   "outputs": [
    {
     "name": "stdout",
     "output_type": "stream",
     "text": [
      "Found 20000 images belonging to 2 classes.\n",
      "Found 5000 images belonging to 2 classes.\n"
     ]
    }
   ],
   "source": [
    "train_dir = 'dogs-vs-cats/train'\n",
    "test_dir = 'dogs-vs-cats/test'\n",
    "\n",
    "train_datagen = ImageDataGenerator(rescale=1./255)\n",
    "test_datagen = ImageDataGenerator(rescale=1./255)\n",
    "\n",
    "train_generator = train_datagen.flow_from_directory(\n",
    "    train_dir,\n",
    "    target_size=(150, 150),\n",
    "    batch_size=32,\n",
    "    class_mode='binary'\n",
    ")\n",
    "\n",
    "test_generator = test_datagen.flow_from_directory(\n",
    "    test_dir,\n",
    "    target_size=(150, 150),\n",
    "    batch_size=32,\n",
    "    class_mode='binary'\n",
    ")"
   ]
  },
  {
   "cell_type": "code",
   "execution_count": 7,
   "id": "bde521dc",
   "metadata": {},
   "outputs": [
    {
     "name": "stderr",
     "output_type": "stream",
     "text": [
      "/Users/suzukikenta/.pyenv/versions/3.12.9/envs/lewagon/lib/python3.12/site-packages/keras/src/layers/convolutional/base_conv.py:107: UserWarning: Do not pass an `input_shape`/`input_dim` argument to a layer. When using Sequential models, prefer using an `Input(shape)` object as the first layer in the model instead.\n",
      "  super().__init__(activity_regularizer=activity_regularizer, **kwargs)\n"
     ]
    }
   ],
   "source": [
    "model = Sequential([\n",
    "    Conv2D(32, (3,3), activation='relu', input_shape=(150,150,3)),\n",
    "    MaxPooling2D(2,2),\n",
    "    Conv2D(64, (3,3), activation='relu'),\n",
    "    MaxPooling2D(2,2),\n",
    "    Flatten(),\n",
    "    Dense(128, activation='relu'),\n",
    "    Dropout(0.5),\n",
    "    Dense(1, activation='sigmoid')  # Binary classification\n",
    "])"
   ]
  },
  {
   "cell_type": "code",
   "execution_count": 8,
   "id": "8dc787a2",
   "metadata": {},
   "outputs": [],
   "source": [
    "model.compile(\n",
    "    loss='binary_crossentropy',\n",
    "    optimizer='adam',\n",
    "    metrics=['accuracy']\n",
    ")"
   ]
  },
  {
   "cell_type": "markdown",
   "id": "15caad8c",
   "metadata": {},
   "source": [
    "# Training and evaluation"
   ]
  },
  {
   "cell_type": "code",
   "execution_count": null,
   "id": "bf031261",
   "metadata": {},
   "outputs": [
    {
     "name": "stdout",
     "output_type": "stream",
     "text": [
      "Trial 5 Complete [00h 56m 53s]\n",
      "val_accuracy: 0.8600000143051147\n",
      "\n",
      "Best val_accuracy So Far: 0.8600000143051147\n",
      "Total elapsed time: 05h 05m 34s\n"
     ]
    }
   ],
   "source": [
    "def build_model(hp):\n",
    "    model = Sequential()\n",
    "\n",
    "    # First Conv Block\n",
    "    model.add(Conv2D(\n",
    "        filters=hp.Int('conv1_filters', min_value=32, max_value=128, step=32),\n",
    "        kernel_size=3,\n",
    "        activation='relu',\n",
    "        padding='same',\n",
    "        input_shape=(150,150,3)\n",
    "    ))\n",
    "    model.add(MaxPooling2D(pool_size=2))\n",
    "\n",
    "    # Second Conv Block\n",
    "    model.add(Conv2D(\n",
    "        filters=hp.Int('conv2_filters', min_value=32, max_value=128, step=32),\n",
    "        kernel_size=3,\n",
    "        activation='relu',\n",
    "        padding='same'\n",
    "    ))\n",
    "    model.add(MaxPooling2D(pool_size=2))\n",
    "\n",
    "    # Third Conv Block\n",
    "    model.add(Conv2D(\n",
    "        filters=hp.Int('conv3_filters', min_value=32, max_value=128, step=32),\n",
    "        kernel_size=3,\n",
    "        activation='relu',\n",
    "        padding='same'\n",
    "    ))\n",
    "    model.add(MaxPooling2D(pool_size=2))\n",
    "\n",
    "    model.add(Flatten())\n",
    "\n",
    "    # Optional Dropout for regularization\n",
    "    model.add(Dropout(rate=hp.Float('dropout', min_value=0.0, max_value=0.5, step=0.1)))\n",
    "\n",
    "    model.add(Dense(1, activation='sigmoid'))\n",
    "\n",
    "    model.compile(\n",
    "        optimizer=tf.keras.optimizers.Adam(\n",
    "            hp.Choice('learning_rate', values=[1e-2, 1e-3, 1e-4])\n",
    "        ),\n",
    "        loss='binary_crossentropy',\n",
    "        metrics=['accuracy']\n",
    "    )\n",
    "\n",
    "    return model\n",
    "\n",
    "tuner = kt.RandomSearch(\n",
    "    build_model,\n",
    "    objective='val_accuracy',\n",
    "    max_trials=5,\n",
    "    executions_per_trial=1,\n",
    "    directory='my_dir',\n",
    "    project_name='dog_cat_tuning'\n",
    ")\n",
    "\n",
    "tuner.search(train_generator, epochs=10, validation_data=test_generator)"
   ]
  },
  {
   "cell_type": "markdown",
   "id": "11343927",
   "metadata": {},
   "source": [
    "# Try the model with new images"
   ]
  },
  {
   "cell_type": "code",
   "execution_count": 55,
   "id": "1301c08d",
   "metadata": {},
   "outputs": [
    {
     "name": "stdout",
     "output_type": "stream",
     "text": [
      "\u001b[1m1/1\u001b[0m \u001b[32m━━━━━━━━━━━━━━━━━━━━\u001b[0m\u001b[37m\u001b[0m \u001b[1m0s\u001b[0m 43ms/step\n",
      "It's a cat 🐱\n"
     ]
    }
   ],
   "source": [
    "best_model = tuner.get_best_models(num_models=1)[0]\n",
    "best_model.save('dog_cat_classifier.keras')\n",
    "\n",
    "model = load_model('dog_cat_classifier.keras')\n",
    "\n",
    "img_path = 'aa.jpg'\n",
    "img = image.load_img(img_path, target_size=(150, 150))\n",
    "img_array = image.img_to_array(img) / 255.0  # normalize same as training\n",
    "img_array = np.expand_dims(img_array, axis=0)  # add batch dimension\n",
    "\n",
    "prediction = model.predict(img_array)[0][0]  # sigmoid output\n",
    "\n",
    "if prediction > 0.5:\n",
    "    print(\"It's a dog 🐶\")\n",
    "else:\n",
    "    print(\"It's a cat 🐱\")"
   ]
  }
 ],
 "metadata": {
  "kernelspec": {
   "display_name": "lewagon",
   "language": "python",
   "name": "python3"
  },
  "language_info": {
   "codemirror_mode": {
    "name": "ipython",
    "version": 3
   },
   "file_extension": ".py",
   "mimetype": "text/x-python",
   "name": "python",
   "nbconvert_exporter": "python",
   "pygments_lexer": "ipython3",
   "version": "3.12.9"
  }
 },
 "nbformat": 4,
 "nbformat_minor": 5
}
